{
 "cells": [
  {
   "cell_type": "markdown",
   "id": "ce6c35a6",
   "metadata": {},
   "source": [
    "#### Q1. Explain why we have to use the Exception class while creating a Custom Exception.\n",
    "Note: Here Exception class refers to the base class for all the exceptions."
   ]
  },
  {
   "cell_type": "markdown",
   "id": "eb127504",
   "metadata": {},
   "source": [
    "#### Ans- When creating a custom exception in Python, it is essential to use the Exception class as the base class for your custom exception. This is because Python's exception hierarchy is designed to inherit from the BaseException class, and Exception is a subclass of BaseException.\n",
    "\n",
    "#### Here are the reasons why we use the Exception class as the base class for custom exceptions:\n",
    "\n",
    "1. Inherit from the Python Exception hierarchy: Python's exception hierarchy is structured to provide a clear and organized way of handling errors and exceptions. By using Exception as the base class, your custom exception becomes part of this hierarchy, making it easier to handle and catch specific exceptions.\n",
    "\n",
    "2. Standard behavior and methods: When you inherit from Exception, your custom exception will inherit all the standard behaviors and methods defined in the base class. These methods include __str__() for providing a string representation of the exception and __repr__() for generating a string that represents the exception's state. This helps to provide useful error messages and consistent behavior across all exceptions in your codebase.\n",
    "\n",
    "3. Consistent error handling: By following the standard exception hierarchy, you ensure that developers familiar with Python's exception handling can easily understand and handle your custom exception. This promotes consistency in error handling throughout the codebase and improves maintainability.\n",
    "\n",
    "4. Easier to catch and handle: Using Exception as the base class allows you to catch your custom exception along with other built-in exceptions more easily. Since most exception handlers are designed to catch Exception or its subclasses, your custom exception will be caught in a catch-all except block if needed.\n",
    "\n"
   ]
  },
  {
   "cell_type": "markdown",
   "id": "908646eb",
   "metadata": {},
   "source": [
    "#### Q2. Write a python program to print Python Exception Hierarchy."
   ]
  },
  {
   "cell_type": "code",
   "execution_count": 2,
   "id": "fef83cce",
   "metadata": {},
   "outputs": [
    {
     "name": "stdout",
     "output_type": "stream",
     "text": [
      "Python Exception Hierarchy:\n",
      "<class 'BaseException'>\n",
      "  <class 'object'>\n"
     ]
    }
   ],
   "source": [
    "def print_exception_hierarchy(exception_class, indent=0):\n",
    "    print(' ' * indent + str(exception_class))\n",
    "    if exception_class.__bases__:\n",
    "        for base_class in exception_class.__bases__:\n",
    "            print_exception_hierarchy(base_class, indent + 2)\n",
    "\n",
    "if __name__ == \"__main__\":\n",
    "    print(\"Python Exception Hierarchy:\")\n",
    "    print_exception_hierarchy(BaseException)\n"
   ]
  },
  {
   "cell_type": "markdown",
   "id": "87bd2e7a",
   "metadata": {},
   "source": [
    "#### Q3. What errors are defined in the ArithmeticError class? Explain any two with an example."
   ]
  },
  {
   "cell_type": "markdown",
   "id": "4c806aff",
   "metadata": {},
   "source": [
    "#### Ans- The ArithmeticError class is a base class for arithmetic-related exceptions in Python. It defines several specific errors that can occur during arithmetic operations. Two of the most commonly used exceptions defined in the ArithmeticError class are:\n",
    "\n",
    "1. ZeroDivisionError: This exception is raised when attempting to divide a number by zero."
   ]
  },
  {
   "cell_type": "code",
   "execution_count": 13,
   "id": "6f7d7123",
   "metadata": {},
   "outputs": [
    {
     "name": "stdout",
     "output_type": "stream",
     "text": [
      "Error: division by zero\n"
     ]
    }
   ],
   "source": [
    "try:\n",
    "    result=10/0\n",
    "except ZeroDivisionError as e:\n",
    "    print(\"Error:\",e)"
   ]
  },
  {
   "cell_type": "markdown",
   "id": "85f53acf",
   "metadata": {},
   "source": [
    "#### In this example, we attempt to divide 10 by 0, which raises a ZeroDivisionError since division by zero is not allowed in mathematics."
   ]
  },
  {
   "cell_type": "markdown",
   "id": "ae693150",
   "metadata": {},
   "source": [
    "2. ValueError : This exception is raised when there is value error"
   ]
  },
  {
   "cell_type": "code",
   "execution_count": 16,
   "id": "fb2958bf",
   "metadata": {},
   "outputs": [
    {
     "name": "stdout",
     "output_type": "stream",
     "text": [
      "Error: Cannot divide by zero.\n"
     ]
    }
   ],
   "source": [
    "def divide_numbers(a, b):\n",
    "    if b == 0:\n",
    "        raise ValueError(\"Cannot divide by zero.\")\n",
    "    return a / b\n",
    "\n",
    "try:\n",
    "    result = divide_numbers(10, 0)\n",
    "except ValueError as e:\n",
    "    print(f\"Error: {e}\")\n"
   ]
  },
  {
   "cell_type": "markdown",
   "id": "a8512203",
   "metadata": {},
   "source": [
    "#### Q4. Why LookupError class is used? Explain with an example KeyError and IndexError."
   ]
  },
  {
   "cell_type": "markdown",
   "id": "b2a7bd7f",
   "metadata": {},
   "source": [
    "#### Ans-  The LookupError class is used as a base class for exceptions that occur when trying to access an item in a collection (e.g., a list or dictionary) using a key or index that does not exist. It provides a common base for specific lookup-related exceptions, allowing for a more generalized approach to handling lookup errors."
   ]
  },
  {
   "cell_type": "markdown",
   "id": "2fdcc19f",
   "metadata": {},
   "source": [
    "1. KeyError: This exception is raised when a dictionary key is not found during a dictionary lookup."
   ]
  },
  {
   "cell_type": "code",
   "execution_count": 17,
   "id": "0bc4e821",
   "metadata": {},
   "outputs": [
    {
     "name": "stdout",
     "output_type": "stream",
     "text": [
      "Error: 'd'\n"
     ]
    }
   ],
   "source": [
    "my_dict = {'a': 1, 'b': 2, 'c': 3}\n",
    "\n",
    "try:\n",
    "    value = my_dict['d']\n",
    "except KeyError as e:\n",
    "    print(f\"Error: {e}\")\n"
   ]
  },
  {
   "cell_type": "markdown",
   "id": "6eb8b5ba",
   "metadata": {},
   "source": [
    "In this example, we try to access the key 'd' from the my_dict dictionary, which raises a KeyError since the key 'd' is not present in the dictionary."
   ]
  },
  {
   "cell_type": "markdown",
   "id": "7c9d5605",
   "metadata": {},
   "source": [
    "2. IndexError: This exception is raised when trying to access an index that is out of range in a sequence, such as a list or a tuple."
   ]
  },
  {
   "cell_type": "code",
   "execution_count": 18,
   "id": "b416f112",
   "metadata": {},
   "outputs": [
    {
     "name": "stdout",
     "output_type": "stream",
     "text": [
      "Error: list index out of range\n"
     ]
    }
   ],
   "source": [
    "my_list = [1, 2, 3]\n",
    "\n",
    "try:\n",
    "    value = my_list[3]\n",
    "except IndexError as e:\n",
    "    print(f\"Error: {e}\")\n"
   ]
  },
  {
   "cell_type": "markdown",
   "id": "ca39dc46",
   "metadata": {},
   "source": [
    "In this example, we try to access the element at index 3 from the my_list list, which raises an IndexError since the list has a length of 3, and indices start from 0, so index 3 is out of range."
   ]
  },
  {
   "cell_type": "markdown",
   "id": "780fe92e",
   "metadata": {},
   "source": [
    "#### Q5. Explain ImportError. What is ModuleNotFoundError?"
   ]
  },
  {
   "cell_type": "markdown",
   "id": "d5e61338",
   "metadata": {},
   "source": [
    "#### Ans- ImportError and ModuleNotFoundError are related exceptions in Python that occur when importing modules.\n",
    "\n",
    "1. ImportError: This exception is raised when an import statement fails to locate and load the specified module. It can happen for various reasons, such as a typo in the module name, the module not being installed, or issues with the Python path."
   ]
  },
  {
   "cell_type": "code",
   "execution_count": 19,
   "id": "42a6937c",
   "metadata": {},
   "outputs": [
    {
     "name": "stdout",
     "output_type": "stream",
     "text": [
      "ImportError: No module named 'non_existent_module'\n"
     ]
    }
   ],
   "source": [
    "try:\n",
    "    import non_existent_module\n",
    "except ImportError as e:\n",
    "    print(f\"ImportError: {e}\")\n"
   ]
  },
  {
   "cell_type": "markdown",
   "id": "f416a61a",
   "metadata": {},
   "source": [
    "In this example, the import statement tries to import a module named non_existent_module, which does not exist, leading to an ImportError.\n",
    "\n",
    "2. ModuleNotFoundError: This exception was introduced in Python 3.6 and is a subclass of ImportError. It is raised when the Python interpreter cannot find the specified module."
   ]
  },
  {
   "cell_type": "code",
   "execution_count": 20,
   "id": "d88c8350",
   "metadata": {},
   "outputs": [
    {
     "name": "stdout",
     "output_type": "stream",
     "text": [
      "ModuleNotFoundError: No module named 'non_existent_module'\n"
     ]
    }
   ],
   "source": [
    "try:\n",
    "    import non_existent_module\n",
    "except ModuleNotFoundError as e:\n",
    "    print(f\"ModuleNotFoundError: {e}\")\n"
   ]
  },
  {
   "cell_type": "markdown",
   "id": "02a90ecd",
   "metadata": {},
   "source": [
    "In this example, the import statement tries to import a module named non_existent_module, which does not exist, raising a ModuleNotFoundError."
   ]
  },
  {
   "cell_type": "markdown",
   "id": "dfce23cd",
   "metadata": {},
   "source": [
    "#### Q6. List down some best practices for exception handling in python."
   ]
  },
  {
   "cell_type": "markdown",
   "id": "04b67f82",
   "metadata": {},
   "source": [
    "#### Ans- Some best practices for exception handling are:\n",
    "\n",
    "1. Use Specific Exception Types: Catch specific exceptions rather than using broad catch-all except blocks. This allows you to handle different types of errors more precisely and avoid unintentionally catching unrelated exceptions.\n",
    "\n",
    "2. Be Explicit with Exception Messages: Provide meaningful and informative error messages in exceptions. This helps with debugging and makes it easier to understand the cause of the error.\n",
    "\n",
    "3. Handle Exceptions Locally: Handle exceptions close to the point where they occur. This makes the code more readable and helps in identifying the cause of errors easily.\n",
    "\n",
    "4. Use finally for Cleanup: Use the finally block to perform cleanup actions, such as closing files or releasing resources, regardless of whether an exception occurred or not.\n",
    "\n",
    "5. Avoid Silencing Exceptions: Avoid using empty except blocks that swallow exceptions without any action. At the very least, log the exception to know what went wrong."
   ]
  },
  {
   "cell_type": "code",
   "execution_count": null,
   "id": "2549ca7e",
   "metadata": {},
   "outputs": [],
   "source": []
  }
 ],
 "metadata": {
  "kernelspec": {
   "display_name": "Python 3 (ipykernel)",
   "language": "python",
   "name": "python3"
  },
  "language_info": {
   "codemirror_mode": {
    "name": "ipython",
    "version": 3
   },
   "file_extension": ".py",
   "mimetype": "text/x-python",
   "name": "python",
   "nbconvert_exporter": "python",
   "pygments_lexer": "ipython3",
   "version": "3.9.13"
  }
 },
 "nbformat": 4,
 "nbformat_minor": 5
}
